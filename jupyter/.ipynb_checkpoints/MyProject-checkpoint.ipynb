{
 "cells": [
  {
   "cell_type": "code",
   "execution_count": 1,
   "metadata": {
    "inputHidden": false,
    "outputHidden": false
   },
   "outputs": [],
   "source": [
    "%jars chpg-graph.jar\n",
    "%jars chpg-visualizations.jar\n",
    "%jars chpg-io.jar\n",
    "%jars protobuf-java-3.8.0.jar\n",
    "\n",
    "import chpg.graph.*;\n",
    "import chpg.graph.schema.*;\n",
    "import chpg.visualizations.GraphView;\n",
    "\n",
    "import java.util.List;\n",
    "import java.util.ArrayList;\n",
    "import java.util.Random;\n",
    "import java.io.File;\n",
    "\n",
    "import chpg.io.*;\n",
    "import chpg.graph.query.Query;"
   ]
  },
  {
   "cell_type": "code",
   "execution_count": 2,
   "metadata": {
    "inputHidden": false,
    "outputHidden": false
   },
   "outputs": [
    {
     "data": {
      "text/html": [
       "<html><iframe src='C:\\Users\\Kyle\\AppData\\Local\\Temp\\graph-viewer34187815246924223\\index.html' width=\"100%\", height=\"600px\" frameBorder=\"0\"></iframe></html>"
      ],
      "text/plain": [
       "<html><iframe src='C:\\Users\\Kyle\\AppData\\Local\\Temp\\graph-viewer34187815246924223\\index.html' width=\"100%\", height=\"600px\" frameBorder=\"0\"></iframe></html>"
      ]
     },
     "metadata": {},
     "output_type": "display_data"
    }
   ],
   "source": [
    "File serializedGraph = new File(\"MyProject.chpg\");\n",
    "PropertyGraph loadedGraph = GraphIO.importGraph(serializedGraph);\n",
    "\n",
    "Query universe = new Query(loadedGraph, loadedGraph);\n",
    "Query containsEdges = universe.edges(\"XCSG.Contains\");\n",
    "Query callEdges = universe.edges(\"XCSG.Call\");\n",
    "Query projectRoot = universe.nodes(\"XCSG.Project\")\n",
    "    .selectNodesByName(\"MyProject\");\n",
    "Query app = containsEdges.forward(projectRoot);\n",
    "Query appMethods = app.nodes(\"XCSG.Method\");\n",
    "Query initializers = appMethods.selectNodesByName(\"<init>\",\"<clinit>\");\n",
    "Query constructors = appMethods.nodes(\"XCSG.Constructor\");\n",
    "Query basicMethods = appMethods.difference(initializers,constructors);\n",
    "Query cg = basicMethods.induce(callEdges);\n",
    "Query result = containsEdges.reverse(cg);\n",
    "\n",
    "GraphView.show(cg.evaluate());\n"
   ]
  },
  {
   "cell_type": "code",
   "execution_count": null,
   "metadata": {},
   "outputs": [],
   "source": []
  }
 ],
 "metadata": {
  "kernel_info": {
   "name": "java"
  },
  "kernelspec": {
   "display_name": "Java",
   "language": "java",
   "name": "java"
  },
  "language_info": {
   "codemirror_mode": "java",
   "file_extension": ".jshell",
   "mimetype": "text/x-java-source",
   "name": "Java",
   "pygments_lexer": "java",
   "version": "12.0.2+10"
  },
  "nteract": {
   "version": "0.14.3"
  }
 },
 "nbformat": 4,
 "nbformat_minor": 1
}
