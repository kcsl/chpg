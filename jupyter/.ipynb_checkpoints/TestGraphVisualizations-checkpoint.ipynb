{
 "cells": [
  {
   "cell_type": "code",
   "execution_count": 1,
   "metadata": {
    "inputHidden": false,
    "outputHidden": false
   },
   "outputs": [
    {
     "ename": "CompilationException",
     "evalue": "",
     "output_type": "error",
     "traceback": [
      "\u001b[1m\u001b[30m|   \u001b[1m\u001b[30m\u001b[0m\u001b[1m\u001b[30m\u001b[41m\u001b[0m\u001b[1m\u001b[30mimport chpg.graph.*;\u001b[0m",
      "\u001b[1m\u001b[31mpackage chpg.graph does not exist\u001b[0m",
      ""
     ]
    }
   ],
   "source": [
    "%jars chpg.jar\n",
    "%jars chpg-visualizations.jar\n",
    "%jars chpg-io.jar\n",
    "%jars protobuf-java-3.8.0.jar\n",
    "\n",
    "import chpg.graph.*;\n",
    "import chpg.graph.schema.*;\n",
    "import chpg.visualizations.GraphView;\n",
    "\n",
    "import java.util.List;\n",
    "import java.util.ArrayList;\n",
    "import java.util.Random;\n",
    "import java.io.File;\n",
    "\n",
    "import chpg.io.*;"
   ]
  },
  {
   "cell_type": "code",
   "execution_count": 2,
   "metadata": {
    "inputHidden": false,
    "outputHidden": false
   },
   "outputs": [
    {
     "ename": "CompilationException",
     "evalue": "",
     "output_type": "error",
     "traceback": [
      "\u001b[1m\u001b[30m|   \u001b[1m\u001b[30m\u001b[0m\u001b[1m\u001b[30m\u001b[41mGraph\u001b[0m\u001b[1m\u001b[30m graph = new PropertyGraph();\u001b[0m",
      "\u001b[1m\u001b[31mcannot find symbol\u001b[0m",
      "\u001b[1m\u001b[31m  symbol:   class Graph\u001b[0m",
      "",
      "\u001b[1m\u001b[30m|   \u001b[1m\u001b[30mGraph graph = new \u001b[0m\u001b[1m\u001b[30m\u001b[41mPropertyGraph\u001b[0m\u001b[1m\u001b[30m();\u001b[0m",
      "\u001b[1m\u001b[31mcannot find symbol\u001b[0m",
      "\u001b[1m\u001b[31m  symbol:   class PropertyGraph\u001b[0m",
      ""
     ]
    }
   ],
   "source": [
    "Graph graph = new PropertyGraph();\n",
    "\n",
    "List<Node> nodes = new ArrayList<Node>();\n",
    "for(int i=0; i<30; i++){\n",
    "  Node n = new Node();\n",
    "  graph.add(n);\n",
    "  nodes.add(n);\n",
    "}\n",
    "\n",
    "Random rnd = new Random();\n",
    "for(int i=0; i<35; i++){\n",
    "  Edge e = new Edge(nodes.get(rnd.nextInt(30)), nodes.get(rnd.nextInt(30)));\n",
    "  graph.add(e);\n",
    "}\n",
    "\n",
    "File serializedGraph = new File(\"test.chpg\");\n",
    "GraphExport.exportGraph(graph, serializedGraph);\n",
    "Graph graph2 = GraphImport.importGraph(serializedGraph);\n",
    "serializedGraph.delete();\n",
    "\n",
    "GraphView.show(graph2);"
   ]
  },
  {
   "cell_type": "code",
   "execution_count": null,
   "metadata": {},
   "outputs": [],
   "source": []
  }
 ],
 "metadata": {
  "kernel_info": {
   "name": "java"
  },
  "kernelspec": {
   "display_name": "Java",
   "language": "java",
   "name": "java"
  },
  "language_info": {
   "codemirror_mode": "java",
   "file_extension": ".jshell",
   "mimetype": "text/x-java-source",
   "name": "Java",
   "pygments_lexer": "java",
   "version": "12.0.2+10"
  },
  "nteract": {
   "version": "0.14.3"
  }
 },
 "nbformat": 4,
 "nbformat_minor": 1
}
