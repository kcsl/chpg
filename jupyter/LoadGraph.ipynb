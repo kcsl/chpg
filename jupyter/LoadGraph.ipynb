{
 "cells": [
  {
   "cell_type": "code",
   "execution_count": 1,
   "metadata": {
    "inputHidden": false,
    "outputHidden": false
   },
   "outputs": [],
   "source": [
    "%jars chpg-graph.jar\n",
    "%jars chpg-io.jar\n",
    "%jars chpg-visualizations-NEW.jar\n",
    "%jars protobuf-java-3.8.0.jar\n",
    "%jars nanohttpd-2.3.1.jar\n",
    "\n",
    "import chpg.graph.*;\n",
    "import chpg.io.*;\n",
    "import chpg.visualizations.*;\n",
    "import chpg.visualizations.GraphView;\n",
    "import chpg.visualizations.GraphView.Layout;\n",
    "import chpg.visualizations.GraphView.Menu;\n",
    "import chpg.visualizations.GraphView.Navigator;\n",
    "import chpg.visualizations.GraphView.PanZoom;"
   ]
  },
  {
   "cell_type": "code",
   "execution_count": 2,
   "metadata": {
    "inputHidden": false,
    "outputHidden": false
   },
   "outputs": [
    {
     "ename": "CompilationException",
     "evalue": "",
     "output_type": "error",
     "traceback": [
      "\u001b[1m\u001b[30m|   \u001b[1m\u001b[30m\u001b[0m\u001b[1m\u001b[30m\u001b[41mLayout\u001b[0m\u001b[1m\u001b[30m layout = Layout.KLAY;\u001b[0m",
      "\u001b[1m\u001b[31mcannot find symbol\u001b[0m",
      "\u001b[1m\u001b[31m  symbol:   class Layout\u001b[0m",
      "",
      "\u001b[1m\u001b[30m|   \u001b[1m\u001b[30mLayout layout = \u001b[0m\u001b[1m\u001b[30m\u001b[41mLayout\u001b[0m\u001b[1m\u001b[30m.KLAY;\u001b[0m",
      "\u001b[1m\u001b[31mcannot find symbol\u001b[0m",
      "\u001b[1m\u001b[31m  symbol:   variable Layout\u001b[0m",
      ""
     ]
    }
   ],
   "source": [
    "// import serialized graph to notebook\n",
    "File serializedGraph = new File(\"/home/banjo/Workspace/SeniorDesign/Graphs/graph1.chpg\");\n",
    "Graph graph = GraphIO.importGraph(serializedGraph);\n",
    "\n",
    "// Set up options\n",
    "String name = \"My Test Graph\";\n",
    "int verticalSize = 600;\n",
    "boolean extend = true;\n",
    "//Layout layout = Layout.DAGRE;\n",
    "Layout layout = Layout.KLAY;\n",
    "Menu menu = Menu.TEXT;\n",
    "PanZoom panzoom = PanZoom.ENABLED;\n",
    "Navigator navigator = Navigator.DEFAULT;\n",
    "\n",
    "// // Create the HTML visualization of the graph\n",
    "String graphHtmlContents = GraphView.createGraphHTML(graph, name, 600, extend, layout, menu, panzoom, navigator);\n",
    "\n",
    "// // Display the HTML at indexPath\n",
    "GraphView.show(graphHtmlContents);"
   ]
  },
  {
   "cell_type": "code",
   "execution_count": null,
   "metadata": {},
   "outputs": [],
   "source": []
  },
  {
   "cell_type": "code",
   "execution_count": null,
   "metadata": {},
   "outputs": [],
   "source": []
  }
 ],
 "metadata": {
  "kernel_info": {
   "name": "java"
  },
  "kernelspec": {
   "display_name": "Java",
   "language": "java",
   "name": "java"
  },
  "language_info": {
   "codemirror_mode": "java",
   "file_extension": ".jshell",
   "mimetype": "text/x-java-source",
   "name": "Java",
   "pygments_lexer": "java",
   "version": "11.0.6+10-post-Ubuntu-1ubuntu119.10.1"
  },
  "nteract": {
   "version": "0.14.3"
  }
 },
 "nbformat": 4,
 "nbformat_minor": 1
}
