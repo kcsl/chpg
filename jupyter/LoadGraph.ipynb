{
 "cells": [
  {
   "cell_type": "code",
   "execution_count": 1,
   "metadata": {
    "inputHidden": false,
    "outputHidden": false
   },
   "outputs": [],
   "source": [
    "%jars chpg-graph.jar\n",
    "%jars chpg-visualizations-NEW.jar\n",
    "%jars chpg-io.jar\n",
    "%jars protobuf-java-3.8.0.jar\n",
    "\n",
    "import java.util.List;\n",
    "import java.util.ArrayList;\n",
    "import java.util.Random;\n",
    "import java.io.File;\n",
    "import java.nio.file.Path;\n",
    "import java.nio.file.Paths;\n",
    "\n",
    "import chpg.graph.*;\n",
    "import chpg.graph.schema.*;\n",
    "import chpg.visualizations.GraphView;\n",
    "import chpg.visualizations.GraphView.Layout;\n",
    "import chpg.visualizations.GraphView.Menu;\n",
    "import chpg.visualizations.GraphView.Navigator;\n",
    "import chpg.visualizations.GraphView.PanZoom;\n",
    "\n",
    "import chpg.io.*;"
   ]
  },
  {
   "cell_type": "code",
   "execution_count": 2,
   "metadata": {
    "inputHidden": false,
    "outputHidden": false
   },
   "outputs": [
    {
     "data": {
      "text/html": [
       "<html><iframe src='http://localhost:8090/' width=\"100%\", height=\"500px\" frameBorder=\"0\"></iframe></html>"
      ],
      "text/plain": [
       "<html><iframe src='http://localhost:8090/' width=\"100%\", height=\"500px\" frameBorder=\"0\"></iframe></html>"
      ]
     },
     "metadata": {},
     "output_type": "display_data"
    }
   ],
   "source": [
    "// import serialized graph to notebook\n",
    "File serializedGraph = new File(\"C:/Graphs/graph1.chpg\");\n",
    "Graph graph = GraphIO.importGraph(serializedGraph);\n",
    "\n",
    "// Create path to directory where HTML graph will be written\n",
    "Path dirPath = Path.of(\"C:/Graphs/Test3\");\n",
    "\n",
    "// Set up options\n",
    "String name = \"My Test Graph\";\n",
    "int verticalSize = 600;\n",
    "boolean extend = true;\n",
    "//Layout layout = Layout.DAGRE;\n",
    "Layout layout = Layout.KLAY;\n",
    "Menu menu = Menu.TEXT;\n",
    "PanZoom panzoom = PanZoom.ENABLED;\n",
    "Navigator navigator = Navigator.DEFAULT;\n",
    "\n",
    "// Create the HTML and get its path\n",
    "Path pathToHtml = GraphView.createHTML(graph, dirPath, name, verticalSize, extend, layout, menu, panzoom, navigator);\n",
    "\n",
    "// Display the HTML at indexPath\n",
    "GraphView.show(pathToHtml);"
   ]
  },
  {
   "cell_type": "code",
   "execution_count": null,
   "metadata": {},
   "outputs": [],
   "source": []
  },
  {
   "cell_type": "code",
   "execution_count": null,
   "metadata": {},
   "outputs": [],
   "source": []
  }
 ],
 "metadata": {
  "kernel_info": {
   "name": "java"
  },
  "kernelspec": {
   "display_name": "Java",
   "language": "java",
   "name": "java"
  },
  "language_info": {
   "codemirror_mode": "java",
   "file_extension": ".jshell",
   "mimetype": "text/x-java-source",
   "name": "Java",
   "pygments_lexer": "java",
   "version": "11.0.6+8-LTS"
  },
  "nteract": {
   "version": "0.14.3"
  }
 },
 "nbformat": 4,
 "nbformat_minor": 1
}
